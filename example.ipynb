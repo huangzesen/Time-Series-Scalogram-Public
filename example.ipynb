{
 "cells": [
  {
   "cell_type": "markdown",
   "metadata": {},
   "source": [
    "# Example Notebook\n",
    "\n",
    "This notebook will load some sample data from wind and create a compressibility scalogram."
   ]
  },
  {
   "cell_type": "code",
   "execution_count": 2,
   "metadata": {},
   "outputs": [],
   "source": [
    "# install some packages\n",
    "# !pip install pyspedas\n",
    "# !pip install pandas\n",
    "# !pip install matplotlib\n",
    "\n",
    "# install the Time-Series-Scalogram package\n",
    "# !pip install Time-Series-Scalogram"
   ]
  },
  {
   "cell_type": "code",
   "execution_count": 16,
   "metadata": {},
   "outputs": [],
   "source": [
    "# load the ts_scalogram module\n",
    "from Time_Series_Scalogram import ts_scalogram\n",
    "\n",
    "# load pyspedas\n",
    "import pyspedas\n",
    "from pytplot import tplot, get_data, time_string\n",
    "\n",
    "# load pandas\n",
    "import pandas as pd"
   ]
  },
  {
   "cell_type": "code",
   "execution_count": 17,
   "metadata": {},
   "outputs": [
    {
     "name": "stderr",
     "output_type": "stream",
     "text": [
      "03-Nov-24 21:45:19: Downloading https://cdaweb.gsfc.nasa.gov/pub/software/cdawlib/0MASTERS/wi_h4-rtn_mfi_00000000_v01.cdf to wind_data/wind_masters/wi_h4-rtn_mfi_00000000_v01.cdf\n",
      "03-Nov-24 21:45:19: Download complete: wind_data/wind_masters/wi_h4-rtn_mfi_00000000_v01.cdf\n",
      "03-Nov-24 21:45:19: Downloading remote index: https://spdf.gsfc.nasa.gov/pub/data/wind/mfi/mfi_h4-rtn/2018/\n",
      "03-Nov-24 21:45:20: Downloading https://spdf.gsfc.nasa.gov/pub/data/wind/mfi/mfi_h4-rtn/2018/wi_h4-rtn_mfi_20180605_v05.cdf to wind_data/mfi/mfi_h4-rtn/2018/wi_h4-rtn_mfi_20180605_v05.cdf\n",
      "03-Nov-24 21:45:23: Download complete: wind_data/mfi/mfi_h4-rtn/2018/wi_h4-rtn_mfi_20180605_v05.cdf\n",
      "03-Nov-24 21:45:24: Downloading https://spdf.gsfc.nasa.gov/pub/data/wind/mfi/mfi_h4-rtn/2018/wi_h4-rtn_mfi_20180606_v05.cdf to wind_data/mfi/mfi_h4-rtn/2018/wi_h4-rtn_mfi_20180606_v05.cdf\n",
      "03-Nov-24 21:45:27: Download complete: wind_data/mfi/mfi_h4-rtn/2018/wi_h4-rtn_mfi_20180606_v05.cdf\n",
      "03-Nov-24 21:45:28: Downloading https://spdf.gsfc.nasa.gov/pub/data/wind/mfi/mfi_h4-rtn/2018/wi_h4-rtn_mfi_20180607_v05.cdf to wind_data/mfi/mfi_h4-rtn/2018/wi_h4-rtn_mfi_20180607_v05.cdf\n",
      "03-Nov-24 21:45:31: Download complete: wind_data/mfi/mfi_h4-rtn/2018/wi_h4-rtn_mfi_20180607_v05.cdf\n",
      "03-Nov-24 21:45:32: Downloading https://spdf.gsfc.nasa.gov/pub/data/wind/mfi/mfi_h4-rtn/2018/wi_h4-rtn_mfi_20180608_v05.cdf to wind_data/mfi/mfi_h4-rtn/2018/wi_h4-rtn_mfi_20180608_v05.cdf\n",
      "03-Nov-24 21:45:34: Download complete: wind_data/mfi/mfi_h4-rtn/2018/wi_h4-rtn_mfi_20180608_v05.cdf\n",
      "03-Nov-24 21:46:39: /Users/huangzesen/anaconda3/lib/python3.12/site-packages/executing/executing.py:713: DeprecationWarning: ast.Str is deprecated and will be removed in Python 3.14; use ast.Constant instead\n",
      "  right=ast.Str(s=sentinel),\n",
      "\n",
      "03-Nov-24 21:46:39: /Users/huangzesen/anaconda3/lib/python3.12/ast.py:587: DeprecationWarning: Attribute s is deprecated and will be removed in Python 3.14; use value instead\n",
      "  return Constant(*args, **kwargs)\n",
      "\n"
     ]
    },
    {
     "ename": "NameError",
     "evalue": "name 'np' is not defined",
     "output_type": "error",
     "traceback": [
      "\u001b[0;31m---------------------------------------------------------------------------\u001b[0m",
      "\u001b[0;31mNameError\u001b[0m                                 Traceback (most recent call last)",
      "Cell \u001b[0;32mIn[17], line 16\u001b[0m\n\u001b[1;32m     14\u001b[0m index \u001b[38;5;241m=\u001b[39m [pd\u001b[38;5;241m.\u001b[39mTimestamp(x) \u001b[38;5;28;01mfor\u001b[39;00m x \u001b[38;5;129;01min\u001b[39;00m time_string(mag_mfi\u001b[38;5;241m.\u001b[39mtimes)]\n\u001b[1;32m     15\u001b[0m df_mfi \u001b[38;5;241m=\u001b[39m pd\u001b[38;5;241m.\u001b[39mDataFrame(mag_mfi\u001b[38;5;241m.\u001b[39my, index\u001b[38;5;241m=\u001b[39mindex, columns\u001b[38;5;241m=\u001b[39m [\u001b[38;5;124m'\u001b[39m\u001b[38;5;124mBx\u001b[39m\u001b[38;5;124m'\u001b[39m, \u001b[38;5;124m'\u001b[39m\u001b[38;5;124mBy\u001b[39m\u001b[38;5;124m'\u001b[39m, \u001b[38;5;124m'\u001b[39m\u001b[38;5;124mBz\u001b[39m\u001b[38;5;124m'\u001b[39m])\n\u001b[0;32m---> 16\u001b[0m df_mfi[\u001b[38;5;124m'\u001b[39m\u001b[38;5;124mBtot\u001b[39m\u001b[38;5;124m'\u001b[39m] \u001b[38;5;241m=\u001b[39m np\u001b[38;5;241m.\u001b[39msqrt(df_mfi[\u001b[38;5;124m'\u001b[39m\u001b[38;5;124mBx\u001b[39m\u001b[38;5;124m'\u001b[39m]\u001b[38;5;241m*\u001b[39m\u001b[38;5;241m*\u001b[39m\u001b[38;5;241m2\u001b[39m \u001b[38;5;241m+\u001b[39m df_mfi[\u001b[38;5;124m'\u001b[39m\u001b[38;5;124mBy\u001b[39m\u001b[38;5;124m'\u001b[39m]\u001b[38;5;241m*\u001b[39m\u001b[38;5;241m*\u001b[39m\u001b[38;5;241m2\u001b[39m \u001b[38;5;241m+\u001b[39m df_mfi[\u001b[38;5;124m'\u001b[39m\u001b[38;5;124mBz\u001b[39m\u001b[38;5;124m'\u001b[39m]\u001b[38;5;241m*\u001b[39m\u001b[38;5;241m*\u001b[39m\u001b[38;5;241m2\u001b[39m)\n\u001b[1;32m     17\u001b[0m df_mfi\u001b[38;5;241m.\u001b[39msort_index(inplace\u001b[38;5;241m=\u001b[39m\u001b[38;5;28;01mTrue\u001b[39;00m)\n",
      "\u001b[0;31mNameError\u001b[0m: name 'np' is not defined"
     ]
    }
   ],
   "source": [
    "# download some wind data\n",
    "# case 375 from https://wind.nasa.gov/ICME_catalog/ICME_catalog_viewer.php\n",
    "\n",
    "t0 = pd.Timestamp('2018-06-06 11:23:00')\n",
    "t1 = pd.Timestamp('2018-06-07 08:29:00')\n",
    "dt = t1 - t0\n",
    "\n",
    "t00 = t0 - dt\n",
    "t11 = t1 + dt\n",
    "\n",
    "\n",
    "mfi_vars = pyspedas.wind.mfi(trange=[t00.strftime('%Y-%m-%d %H:%M:%S'), t11.strftime('%Y-%m-%d %H:%M:%S')], datatype='h4-rtn')\n",
    "mag_mfi = get_data('BRTN')\n",
    "index = [pd.Timestamp(x) for x in time_string(mag_mfi.times)]\n",
    "df_mfi = pd.DataFrame(mag_mfi.y, index=index, columns= ['Bx', 'By', 'Bz'])\n",
    "df_mfi['Btot'] = np.sqrt(df_mfi['Bx']**2 + df_mfi['By']**2 + df_mfi['Bz']**2)\n",
    "df_mfi.sort_index(inplace=True)"
   ]
  },
  {
   "cell_type": "code",
   "execution_count": null,
   "metadata": {},
   "outputs": [],
   "source": []
  }
 ],
 "metadata": {
  "kernelspec": {
   "display_name": "base",
   "language": "python",
   "name": "python3"
  },
  "language_info": {
   "codemirror_mode": {
    "name": "ipython",
    "version": 3
   },
   "file_extension": ".py",
   "mimetype": "text/x-python",
   "name": "python",
   "nbconvert_exporter": "python",
   "pygments_lexer": "ipython3",
   "version": "3.12.7"
  }
 },
 "nbformat": 4,
 "nbformat_minor": 2
}
